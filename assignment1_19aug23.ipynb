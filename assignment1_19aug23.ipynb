{
 "cells": [
  {
   "cell_type": "code",
   "execution_count": 1,
   "id": "b555bbc4-c4de-41ff-ac60-6ee9a088507a",
   "metadata": {},
   "outputs": [
    {
     "name": "stdout",
     "output_type": "stream",
     "text": [
      "before swapping 10 20\n"
     ]
    }
   ],
   "source": [
    "#assingment/python_basic_variables_1 declared x & y with int values in single line\n",
    "x, y = 10 , 20\n",
    "print(\"before swapping\",x,y) #printing value of x & y before swapping"
   ]
  },
  {
   "cell_type": "code",
   "execution_count": 2,
   "id": "de963b59-b727-4120-b940-e1ea78fc53b1",
   "metadata": {},
   "outputs": [
    {
     "name": "stdout",
     "output_type": "stream",
     "text": [
      "after swapping 20 10\n"
     ]
    }
   ],
   "source": [
    "x = x + y #logical formula for swapping\n",
    "y = x- y\n",
    "x = x - y\n",
    "print(\"after swapping\",x,y) #printing values after swapping"
   ]
  },
  {
   "cell_type": "code",
   "execution_count": 3,
   "id": "58487510-15dd-49f6-bd7f-997504e75c9c",
   "metadata": {},
   "outputs": [
    {
     "name": "stdin",
     "output_type": "stream",
     "text": [
      "enter base of triangle 10\n",
      "enter height of triangle 15\n"
     ]
    },
    {
     "name": "stdout",
     "output_type": "stream",
     "text": [
      "Area of Triangle 75.0\n"
     ]
    }
   ],
   "source": [
    "#assingment/python_basic_variables_2 Area of triangle\n",
    "b= float(input(\"enter base of triangle\"))   #user define input of triangle, data type can be used as int  or float to be more precise\n",
    "h = float(input(\"enter height of triangle\")) \n",
    "area = b*h/2  #area of triangle = base x height x 1/2\n",
    "print(\"Area of Triangle\", area)"
   ]
  },
  {
   "cell_type": "code",
   "execution_count": 4,
   "id": "7909cd7b-3190-4626-b665-81781429ff42",
   "metadata": {
    "tags": []
   },
   "outputs": [
    {
     "name": "stdin",
     "output_type": "stream",
     "text": [
      "Enter temparature in °C 45\n"
     ]
    },
    {
     "name": "stdout",
     "output_type": "stream",
     "text": [
      "Temperature in Fahrenheit is °F  113.0\n"
     ]
    }
   ],
   "source": [
    "#assingment/python_basic_variables_3 convert temperature from celius to fahrenheit\n",
    "\n",
    "c = float(input(\"Enter temparature in °C\"))\n",
    "         \n",
    "f= c*(9/5)+32 #celcius to fahrenheit conversion formula\n",
    "print(\"Temperature in Fahrenheit is °F \",f)"
   ]
  },
  {
   "cell_type": "code",
   "execution_count": 5,
   "id": "fa2ff8e2-19d3-4504-bd1a-55e43a5df7ac",
   "metadata": {},
   "outputs": [
    {
     "name": "stdin",
     "output_type": "stream",
     "text": [
      "enter anything in string shaktirajbhar\n"
     ]
    },
    {
     "name": "stdout",
     "output_type": "stream",
     "text": [
      "lenght of the string is 13\n"
     ]
    }
   ],
   "source": [
    "#assingment/stringbasedquestions 1. program to take string as input and print lenght of string.\n",
    "s = input(\"enter anything in string\")  #bydefault datatpye is string\n",
    "print(\"lenght of the string is\",len(s))"
   ]
  },
  {
   "cell_type": "code",
   "execution_count": 6,
   "id": "0b7c25e5-7c94-47dd-90c8-8f228faa723c",
   "metadata": {},
   "outputs": [
    {
     "name": "stdin",
     "output_type": "stream",
     "text": [
      "Enter the string : shaktirajbharislearningpython\n"
     ]
    },
    {
     "name": "stdout",
     "output_type": "stream",
     "text": [
      "Total vowels are :9\n"
     ]
    }
   ],
   "source": [
    "#assingment/stringbasedquestions 2. vowels counts\n",
    "s1 = input('Enter the string :') #user input of string(data type is by default string)\n",
    "count = 0 #initial counter zero\n",
    "s1 = s1.lower() #to check conditions in lowercase only\n",
    "for i in s1: \n",
    "    if i == 'a' or i == 'e' or i == 'i' or i == 'o' or i == 'u':\n",
    "        count+=1\n",
    "if count == 0:\n",
    "    print('No vowels found')\n",
    "else:\n",
    "    print('Total vowels are :' + str(count))"
   ]
  },
  {
   "cell_type": "code",
   "execution_count": 7,
   "id": "6d159d78-3e8a-4cc5-a40e-7412dca9f348",
   "metadata": {},
   "outputs": [],
   "source": [
    "#assingment/3  reverse the order of characters using string slicing and print the reversed string.\n",
    "s2 = \"a,b,c,d\""
   ]
  },
  {
   "cell_type": "code",
   "execution_count": 8,
   "id": "59d14653-d50b-4df9-baae-2e2f4b91a4c6",
   "metadata": {},
   "outputs": [
    {
     "name": "stdout",
     "output_type": "stream",
     "text": [
      "d,c,b,a\n"
     ]
    }
   ],
   "source": [
    "print(s2[::-1])"
   ]
  },
  {
   "cell_type": "code",
   "execution_count": 9,
   "id": "5f0227a9-4c7e-44dd-8468-4a19d3047681",
   "metadata": {},
   "outputs": [
    {
     "name": "stdin",
     "output_type": "stream",
     "text": [
      "enter the string to check if it is a palindrome lol\n"
     ]
    },
    {
     "name": "stdout",
     "output_type": "stream",
     "text": [
      "String is Palindrome.\n"
     ]
    }
   ],
   "source": [
    "#assingment/4 palindrome\n",
    "s3 = input(\"enter the string to check if it is a palindrome\") #input string\n",
    "rev_s3 = s3[::-1] #reversed input string\n",
    "if s3 == rev_s3: # if input  == reverserd string\n",
    "    print(\"String is Palindrome.\") #if true \n",
    "else:\n",
    "    print(\"String is not a palindrome.\") "
   ]
  },
  {
   "cell_type": "code",
   "execution_count": 10,
   "id": "00f99f77-b80b-4a34-abdf-aefd16185b4e",
   "metadata": {},
   "outputs": [
    {
     "name": "stdin",
     "output_type": "stream",
     "text": [
      "Enter string: s h a k t i    r a j b h a r\n"
     ]
    },
    {
     "name": "stdout",
     "output_type": "stream",
     "text": [
      "Modified string:\n",
      "shaktirajbhar\n"
     ]
    }
   ],
   "source": [
    "#assingment/ 5 remove spacefrom string  and print modifed string.\n",
    "s4 = input(\"Enter string:\")\n",
    "s5 = s4.replace(' ','')\n",
    "print(\"Modified string:\")\n",
    "print(s5)"
   ]
  },
  {
   "cell_type": "code",
   "execution_count": null,
   "id": "f7d42650-e18f-4052-be73-43fb1837ccbc",
   "metadata": {},
   "outputs": [],
   "source": [
    "\n"
   ]
  }
 ],
 "metadata": {
  "kernelspec": {
   "display_name": "Python 3 (ipykernel)",
   "language": "python",
   "name": "python3"
  },
  "language_info": {
   "codemirror_mode": {
    "name": "ipython",
    "version": 3
   },
   "file_extension": ".py",
   "mimetype": "text/x-python",
   "name": "python",
   "nbconvert_exporter": "python",
   "pygments_lexer": "ipython3",
   "version": "3.10.8"
  }
 },
 "nbformat": 4,
 "nbformat_minor": 5
}
